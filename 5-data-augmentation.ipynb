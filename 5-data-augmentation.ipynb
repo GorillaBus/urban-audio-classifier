{
 "cells": [
  {
   "cell_type": "markdown",
   "metadata": {},
   "source": [
    "# UrbanSound8K Data Augmentation"
   ]
  },
  {
   "cell_type": "code",
   "execution_count": 1,
   "metadata": {},
   "outputs": [],
   "source": [
    "import os\n",
    "import librosa\n",
    "import librosa.display\n",
    "import pandas as pd\n",
    "import numpy as np\n",
    "import random\n",
    "import matplotlib as plt\n",
    "import matplotlib.pyplot as plt"
   ]
  },
  {
   "cell_type": "markdown",
   "metadata": {},
   "source": [
    "### Load metadata CSV"
   ]
  },
  {
   "cell_type": "code",
   "execution_count": 15,
   "metadata": {},
   "outputs": [],
   "source": [
    "# Define general variables\n",
    "\n",
    "# Set your path to the dataset\n",
    "us8k_path = os.path.abspath('./UrbanSound8K')\n",
    "audio_path = os.path.join(us8k_path, 'audio')\n",
    "augmented_path = os.path.abspath('augmented')\n",
    "\n",
    "# Metadata\n",
    "metadata_path = os.path.join(us8k_path, 'metadata/UrbanSound8K.csv')\n",
    "metadata_augmented_path = os.path.abspath('data/augmented-data.csv')"
   ]
  },
  {
   "cell_type": "markdown",
   "metadata": {},
   "source": [
    "#### Load metadata"
   ]
  },
  {
   "cell_type": "code",
   "execution_count": 3,
   "metadata": {},
   "outputs": [
    {
     "data": {
      "text/html": [
       "<div>\n",
       "<style scoped>\n",
       "    .dataframe tbody tr th:only-of-type {\n",
       "        vertical-align: middle;\n",
       "    }\n",
       "\n",
       "    .dataframe tbody tr th {\n",
       "        vertical-align: top;\n",
       "    }\n",
       "\n",
       "    .dataframe thead th {\n",
       "        text-align: right;\n",
       "    }\n",
       "</style>\n",
       "<table border=\"1\" class=\"dataframe\">\n",
       "  <thead>\n",
       "    <tr style=\"text-align: right;\">\n",
       "      <th></th>\n",
       "      <th>slice_file_name</th>\n",
       "      <th>fsID</th>\n",
       "      <th>start</th>\n",
       "      <th>end</th>\n",
       "      <th>salience</th>\n",
       "      <th>fold</th>\n",
       "      <th>classID</th>\n",
       "      <th>class</th>\n",
       "    </tr>\n",
       "  </thead>\n",
       "  <tbody>\n",
       "    <tr>\n",
       "      <th>0</th>\n",
       "      <td>100032-3-0-0.wav</td>\n",
       "      <td>100032</td>\n",
       "      <td>0.0</td>\n",
       "      <td>0.317551</td>\n",
       "      <td>1</td>\n",
       "      <td>5</td>\n",
       "      <td>3</td>\n",
       "      <td>dog_bark</td>\n",
       "    </tr>\n",
       "    <tr>\n",
       "      <th>1</th>\n",
       "      <td>100263-2-0-117.wav</td>\n",
       "      <td>100263</td>\n",
       "      <td>58.5</td>\n",
       "      <td>62.500000</td>\n",
       "      <td>1</td>\n",
       "      <td>5</td>\n",
       "      <td>2</td>\n",
       "      <td>children_playing</td>\n",
       "    </tr>\n",
       "    <tr>\n",
       "      <th>2</th>\n",
       "      <td>100263-2-0-121.wav</td>\n",
       "      <td>100263</td>\n",
       "      <td>60.5</td>\n",
       "      <td>64.500000</td>\n",
       "      <td>1</td>\n",
       "      <td>5</td>\n",
       "      <td>2</td>\n",
       "      <td>children_playing</td>\n",
       "    </tr>\n",
       "    <tr>\n",
       "      <th>3</th>\n",
       "      <td>100263-2-0-126.wav</td>\n",
       "      <td>100263</td>\n",
       "      <td>63.0</td>\n",
       "      <td>67.000000</td>\n",
       "      <td>1</td>\n",
       "      <td>5</td>\n",
       "      <td>2</td>\n",
       "      <td>children_playing</td>\n",
       "    </tr>\n",
       "    <tr>\n",
       "      <th>4</th>\n",
       "      <td>100263-2-0-137.wav</td>\n",
       "      <td>100263</td>\n",
       "      <td>68.5</td>\n",
       "      <td>72.500000</td>\n",
       "      <td>1</td>\n",
       "      <td>5</td>\n",
       "      <td>2</td>\n",
       "      <td>children_playing</td>\n",
       "    </tr>\n",
       "  </tbody>\n",
       "</table>\n",
       "</div>"
      ],
      "text/plain": [
       "      slice_file_name    fsID  start        end  salience  fold  classID  \\\n",
       "0    100032-3-0-0.wav  100032    0.0   0.317551         1     5        3   \n",
       "1  100263-2-0-117.wav  100263   58.5  62.500000         1     5        2   \n",
       "2  100263-2-0-121.wav  100263   60.5  64.500000         1     5        2   \n",
       "3  100263-2-0-126.wav  100263   63.0  67.000000         1     5        2   \n",
       "4  100263-2-0-137.wav  100263   68.5  72.500000         1     5        2   \n",
       "\n",
       "              class  \n",
       "0          dog_bark  \n",
       "1  children_playing  \n",
       "2  children_playing  \n",
       "3  children_playing  \n",
       "4  children_playing  "
      ]
     },
     "execution_count": 3,
     "metadata": {},
     "output_type": "execute_result"
    }
   ],
   "source": [
    "# Load the metadata from the generated CSV\n",
    "metadata = pd.read_csv(metadata_path)\n",
    "\n",
    "# Examine dataframe\n",
    "metadata.head()"
   ]
  },
  {
   "cell_type": "markdown",
   "metadata": {},
   "source": [
    "### Time stretching"
   ]
  },
  {
   "cell_type": "markdown",
   "metadata": {},
   "source": [
    "#### Time stretching (changing play time)"
   ]
  },
  {
   "cell_type": "code",
   "execution_count": 4,
   "metadata": {},
   "outputs": [],
   "source": [
    "rates = [0.81, 1.07]\n",
    "for rate in rates: \n",
    "    # Generate new stretched audio file\n",
    "    for index, row in metadata.iterrows():        \n",
    "        curr_fold = str(row['fold'])\n",
    "        curr_file_path = audio_path + '/fold' + curr_fold + '/' + row['slice_file_name']\n",
    "        \n",
    "        # Speed sub-dir inside current fold dir\n",
    "        curr_rate_path = augmented_path + '/fold' + curr_fold + '/speed_' + str(int(rate*100))\n",
    "\n",
    "        # Create sub-dir if it does not exist\n",
    "        if not os.path.exists(curr_rate_path):\n",
    "            os.makedirs(curr_rate_path)\n",
    "        \n",
    "        output_path = curr_rate_path + '/' + row['slice_file_name']\n",
    "        \n",
    "        y, sr = librosa.load(curr_file_path)  \n",
    "        y_changed = librosa.effects.time_stretch(y, rate=rate)\n",
    "        librosa.output.write_wav(output_path, y_changed, sr)\n"
   ]
  },
  {
   "cell_type": "markdown",
   "metadata": {},
   "source": [
    "### Pitch shifting"
   ]
  },
  {
   "cell_type": "code",
   "execution_count": 5,
   "metadata": {},
   "outputs": [
    {
     "name": "stdout",
     "output_type": "stream",
     "text": [
      "Finished tone  -1\n",
      "Finished tone  -2\n",
      "Finished tone  -2.5\n",
      "Finished tone  -3.5\n",
      "Finished tone  1\n",
      "Finished tone  2\n",
      "Finished tone  2.5\n",
      "Finished tone  3.5\n"
     ]
    }
   ],
   "source": [
    "tone_steps = [-1, -2, -2.5, -3.5, 1, 2, 2.5, 3.5]\n",
    "\n",
    "for tone_step in tone_steps:\n",
    "    # Generate new pitched audio\n",
    "    for index, row in metadata.iterrows():        \n",
    "        curr_fold = str(row['fold'])\n",
    "        curr_file_path = audio_path + '/fold' + curr_fold + '/' + row['slice_file_name']\n",
    "\n",
    "        # Pitch Shift sub-dir inside current fold dir\n",
    "        curr_ps_path = augmented_path + '/fold' + curr_fold + '/pitch_' + str(tone_step)\n",
    "\n",
    "        # Create sub-dir if it does not exist\n",
    "        if not os.path.exists(curr_ps_path):\n",
    "            os.makedirs(curr_ps_path)\n",
    "        \n",
    "        output_path = curr_ps_path + '/' + row['slice_file_name']\n",
    "        \n",
    "        # Skip when file already exists\n",
    "        if (os.path.isfile(output_path)):\n",
    "            print(output_path, \" already exists\")\n",
    "            continue\n",
    "        \n",
    "        y, sr = librosa.load(curr_file_path)  \n",
    "        y_changed = librosa.effects.pitch_shift(y, sr, n_steps=tone_step)\n",
    "        librosa.output.write_wav(output_path, y_changed, sr)\n",
    "    \n",
    "    print(\"Finished tone \", tone_step) "
   ]
  },
  {
   "cell_type": "markdown",
   "metadata": {},
   "source": [
    "### Add noise"
   ]
  },
  {
   "cell_type": "code",
   "execution_count": 6,
   "metadata": {},
   "outputs": [],
   "source": [
    "import random\n",
    "\n",
    "def add_noise(data):\n",
    "    noise = np.random.rand(len(data))\n",
    "    noise_amp = random.uniform(0.005, 0.008)\n",
    "    data_noise = data + (noise_amp * noise)\n",
    "    return data_noise\n",
    "\n",
    "# Generate new noised audio\n",
    "for index, row in metadata.iterrows():        \n",
    "    curr_fold = str(row['fold'])\n",
    "    curr_file_path = audio_path + '/fold' + curr_fold + '/' + row['slice_file_name']\n",
    "\n",
    "    # Noised sub-dir inside current fold dir\n",
    "    curr_noise_path = augmented_path + '/fold' + curr_fold + '/noise'\n",
    "\n",
    "    # Create sub-dir if it does not exist\n",
    "    if not os.path.exists(curr_noise_path):\n",
    "        os.makedirs(curr_noise_path)\n",
    "        \n",
    "    output_path = curr_noise_path + '/' + row['slice_file_name']\n",
    "        \n",
    "    # Skip when file already exists\n",
    "    if (os.path.isfile(output_path)):\n",
    "        print(output_path, \" already exists\")\n",
    "        continue\n",
    "        \n",
    "    y, sr = librosa.load(curr_file_path)  \n",
    "    y_changed = add_noise(y)\n",
    "    librosa.output.write_wav(output_path, y_changed, sr)"
   ]
  },
  {
   "cell_type": "markdown",
   "metadata": {},
   "source": [
    "### Create metadata for the new files"
   ]
  },
  {
   "cell_type": "code",
   "execution_count": 7,
   "metadata": {},
   "outputs": [],
   "source": [
    "def get_files_recursive(path):\n",
    "    # create a list of file and sub directories \n",
    "    # names in the given directory \n",
    "    file_list = os.listdir(path)\n",
    "    all_files = list()\n",
    "    # Iterate over all the entries\n",
    "    for entry in file_list:\n",
    "        # Create full path\n",
    "        full_path = os.path.join(path, entry)\n",
    "        # If entry is a directory then get the list of files in this directory \n",
    "        if os.path.isdir(full_path):\n",
    "            all_files = all_files + get_files_recursive(full_path)\n",
    "        else:\n",
    "            all_files.append(full_path)\n",
    "                \n",
    "    return all_files   "
   ]
  },
  {
   "cell_type": "code",
   "execution_count": 8,
   "metadata": {},
   "outputs": [
    {
     "name": "stdout",
     "output_type": "stream",
     "text": [
      "96052 new entries\n"
     ]
    }
   ],
   "source": [
    "# Get every single file within the tree\n",
    "files = get_files_recursive(augmented_path)\n",
    "\n",
    "# Define metadata columns\n",
    "names = []\n",
    "classes = []\n",
    "folds = []\n",
    "augmentations = []\n",
    "\n",
    "# Iterate and collect name, fold and class\n",
    "for file in files:\n",
    "    pieces = file.split(\"/\")\n",
    "    file = pieces[len(pieces) - 1]\n",
    "    fold = pieces[len(pieces) - 3] \n",
    "    augment = pieces[len(pieces) - 2] \n",
    "    fold_num = fold[4:len(fold)]\n",
    "    class_id = file.split(\"-\")[1]\n",
    "\n",
    "    # Push records\n",
    "    names.append(file)\n",
    "    folds.append(fold_num)\n",
    "    classes.append(class_id)\n",
    "    augmentations.append(augment)\n",
    "\n",
    "# Create a dataframe with the new augmented data\n",
    "new_meta = pd.DataFrame({'file': names, 'fold': folds, 'class_id': classes, 'augment': augmentations })\n",
    "\n",
    "# Make sure class_id is int\n",
    "new_meta['class_id'] = new_meta['class_id'].astype(np.int64)\n",
    "\n",
    "print(len(new_meta), \"new entries\")"
   ]
  },
  {
   "cell_type": "code",
   "execution_count": 9,
   "metadata": {},
   "outputs": [],
   "source": [
    "# Add class names to the new dataframe using merge\n",
    "classes = pd.DataFrame({\n",
    "    'class_id': range(0,10),\n",
    "    'class': [\n",
    "        'air_conditioner',\n",
    "        'car_horn',\n",
    "        'children_playing',\n",
    "        'dog_bark',\n",
    "        'drilling',\n",
    "        'engine_idling',\n",
    "        'gun_shot',\n",
    "        'jackhammer',\n",
    "        'siren',\n",
    "        'street_music'\n",
    "    ]\n",
    "})\n",
    "\n",
    "new_meta = pd.merge(new_meta, classes, on='class_id')\n"
   ]
  },
  {
   "cell_type": "code",
   "execution_count": 13,
   "metadata": {},
   "outputs": [
    {
     "data": {
      "text/html": [
       "<div>\n",
       "<style scoped>\n",
       "    .dataframe tbody tr th:only-of-type {\n",
       "        vertical-align: middle;\n",
       "    }\n",
       "\n",
       "    .dataframe tbody tr th {\n",
       "        vertical-align: top;\n",
       "    }\n",
       "\n",
       "    .dataframe thead th {\n",
       "        text-align: right;\n",
       "    }\n",
       "</style>\n",
       "<table border=\"1\" class=\"dataframe\">\n",
       "  <thead>\n",
       "    <tr style=\"text-align: right;\">\n",
       "      <th></th>\n",
       "      <th>file</th>\n",
       "      <th>fold</th>\n",
       "      <th>class_id</th>\n",
       "      <th>augment</th>\n",
       "      <th>class</th>\n",
       "    </tr>\n",
       "  </thead>\n",
       "  <tbody>\n",
       "    <tr>\n",
       "      <th>96047</th>\n",
       "      <td>159705-6-0-0.wav</td>\n",
       "      <td>7</td>\n",
       "      <td>6</td>\n",
       "      <td>pitch_2.5</td>\n",
       "      <td>gun_shot</td>\n",
       "    </tr>\n",
       "    <tr>\n",
       "      <th>96048</th>\n",
       "      <td>135527-6-14-9.wav</td>\n",
       "      <td>7</td>\n",
       "      <td>6</td>\n",
       "      <td>pitch_2.5</td>\n",
       "      <td>gun_shot</td>\n",
       "    </tr>\n",
       "    <tr>\n",
       "      <th>96049</th>\n",
       "      <td>159708-6-2-0.wav</td>\n",
       "      <td>7</td>\n",
       "      <td>6</td>\n",
       "      <td>pitch_2.5</td>\n",
       "      <td>gun_shot</td>\n",
       "    </tr>\n",
       "    <tr>\n",
       "      <th>96050</th>\n",
       "      <td>159708-6-6-0.wav</td>\n",
       "      <td>7</td>\n",
       "      <td>6</td>\n",
       "      <td>pitch_2.5</td>\n",
       "      <td>gun_shot</td>\n",
       "    </tr>\n",
       "    <tr>\n",
       "      <th>96051</th>\n",
       "      <td>148827-6-0-0.wav</td>\n",
       "      <td>7</td>\n",
       "      <td>6</td>\n",
       "      <td>pitch_2.5</td>\n",
       "      <td>gun_shot</td>\n",
       "    </tr>\n",
       "  </tbody>\n",
       "</table>\n",
       "</div>"
      ],
      "text/plain": [
       "                    file fold  class_id    augment     class\n",
       "96047   159705-6-0-0.wav    7         6  pitch_2.5  gun_shot\n",
       "96048  135527-6-14-9.wav    7         6  pitch_2.5  gun_shot\n",
       "96049   159708-6-2-0.wav    7         6  pitch_2.5  gun_shot\n",
       "96050   159708-6-6-0.wav    7         6  pitch_2.5  gun_shot\n",
       "96051   148827-6-0-0.wav    7         6  pitch_2.5  gun_shot"
      ]
     },
     "execution_count": 13,
     "metadata": {},
     "output_type": "execute_result"
    }
   ],
   "source": [
    "new_meta.tail()"
   ]
  },
  {
   "cell_type": "markdown",
   "metadata": {},
   "source": [
    "### Integrate metadata in a single dataset"
   ]
  },
  {
   "cell_type": "code",
   "execution_count": 11,
   "metadata": {},
   "outputs": [],
   "source": [
    "# Modify original data to fit the new structure\n",
    "del metadata['fsID'], metadata['start'], metadata['end'], metadata['salience']\n",
    "metadata.columns = ['file', 'fold', 'class_id', 'class']\n",
    "metadata['augment'] = 'none'\n"
   ]
  },
  {
   "cell_type": "code",
   "execution_count": 12,
   "metadata": {
    "scrolled": true
   },
   "outputs": [
    {
     "name": "stdout",
     "output_type": "stream",
     "text": [
      "Dataframes merged correctly!\n",
      "Initial data: 8732\n",
      "New data: 96052\n",
      "Merged data: 104784\n"
     ]
    },
    {
     "name": "stderr",
     "output_type": "stream",
     "text": [
      "/home/eduugr/miniconda3/lib/python3.7/site-packages/ipykernel_launcher.py:2: FutureWarning: Sorting because non-concatenation axis is not aligned. A future version\n",
      "of pandas will change to not sort by default.\n",
      "\n",
      "To accept the future behavior, pass 'sort=False'.\n",
      "\n",
      "To retain the current behavior and silence the warning, pass 'sort=True'.\n",
      "\n",
      "  \n"
     ]
    }
   ],
   "source": [
    "# Concat the two dataframes\n",
    "full_meta = pd.concat([metadata, new_meta])\n",
    "\n",
    "# Verify lengths\n",
    "if (len(full_meta) == len(metadata) + len(new_meta)):\n",
    "    print(\"Dataframes merged correctly!\")\n",
    "else:\n",
    "    print(\"Error! Lengths do not match.\")\n",
    "\n",
    "print(\"Initial data:\", len(metadata))\n",
    "print(\"New data:\", len(new_meta))\n",
    "print(\"Merged data:\", len(full_meta))"
   ]
  },
  {
   "cell_type": "markdown",
   "metadata": {},
   "source": [
    "### Save the new dataset"
   ]
  },
  {
   "cell_type": "code",
   "execution_count": 16,
   "metadata": {},
   "outputs": [],
   "source": [
    "# Save the new metadata\n",
    "full_meta.to_csv(metadata_augmented_path, index=False, encoding=\"utf-8\")"
   ]
  },
  {
   "cell_type": "markdown",
   "metadata": {},
   "source": [
    "### External validation files compilation code"
   ]
  },
  {
   "cell_type": "code",
   "execution_count": 5,
   "metadata": {},
   "outputs": [
    {
     "data": {
      "text/html": [
       "<div>\n",
       "<style scoped>\n",
       "    .dataframe tbody tr th:only-of-type {\n",
       "        vertical-align: middle;\n",
       "    }\n",
       "\n",
       "    .dataframe tbody tr th {\n",
       "        vertical-align: top;\n",
       "    }\n",
       "\n",
       "    .dataframe thead th {\n",
       "        text-align: right;\n",
       "    }\n",
       "</style>\n",
       "<table border=\"1\" class=\"dataframe\">\n",
       "  <thead>\n",
       "    <tr style=\"text-align: right;\">\n",
       "      <th></th>\n",
       "      <th>class</th>\n",
       "      <th>file</th>\n",
       "    </tr>\n",
       "  </thead>\n",
       "  <tbody>\n",
       "    <tr>\n",
       "      <th>46</th>\n",
       "      <td>jackhammer</td>\n",
       "      <td>/home/edu/Projects/nn-audio-classifier/data/ev...</td>\n",
       "    </tr>\n",
       "    <tr>\n",
       "      <th>47</th>\n",
       "      <td>jackhammer</td>\n",
       "      <td>/home/edu/Projects/nn-audio-classifier/data/ev...</td>\n",
       "    </tr>\n",
       "    <tr>\n",
       "      <th>48</th>\n",
       "      <td>jackhammer</td>\n",
       "      <td>/home/edu/Projects/nn-audio-classifier/data/ev...</td>\n",
       "    </tr>\n",
       "    <tr>\n",
       "      <th>49</th>\n",
       "      <td>jackhammer</td>\n",
       "      <td>/home/edu/Projects/nn-audio-classifier/data/ev...</td>\n",
       "    </tr>\n",
       "    <tr>\n",
       "      <th>50</th>\n",
       "      <td>jackhammer</td>\n",
       "      <td>/home/edu/Projects/nn-audio-classifier/data/ev...</td>\n",
       "    </tr>\n",
       "  </tbody>\n",
       "</table>\n",
       "</div>"
      ],
      "text/plain": [
       "         class                                               file\n",
       "46  jackhammer  /home/edu/Projects/nn-audio-classifier/data/ev...\n",
       "47  jackhammer  /home/edu/Projects/nn-audio-classifier/data/ev...\n",
       "48  jackhammer  /home/edu/Projects/nn-audio-classifier/data/ev...\n",
       "49  jackhammer  /home/edu/Projects/nn-audio-classifier/data/ev...\n",
       "50  jackhammer  /home/edu/Projects/nn-audio-classifier/data/ev..."
      ]
     },
     "execution_count": 5,
     "metadata": {},
     "output_type": "execute_result"
    }
   ],
   "source": [
    "import os\n",
    "import pandas as pd\n",
    "\n",
    "base_path = os.path.abspath(\"./data/evaluation/\")\n",
    "\n",
    "def get_external_samples(path):\n",
    "    files = []\n",
    "    labels = []\n",
    "\n",
    "    # Iterate category directories\n",
    "    dirs = os.listdir(base_path)\n",
    "    for d in dirs:\n",
    "        category = d\n",
    "        category_path = os.path.join(base_path, d)\n",
    "\n",
    "        # Iterate files\n",
    "        dir_files = os.listdir(category_path)\n",
    "\n",
    "        for file in dir_files:\n",
    "            file_path = os.path.join(category_path, file)\n",
    "            files.append(file_path)\n",
    "            labels.append(category)\n",
    "\n",
    "    # Create dataframe\n",
    "    return pd.DataFrame({ 'class': labels, 'file': files })\n",
    "\n",
    "\n",
    "external = get_external_samples(base_path)\n",
    "\n",
    "\n"
   ]
  }
 ],
 "metadata": {
  "kernelspec": {
   "display_name": "Python 3",
   "language": "python",
   "name": "python3"
  },
  "language_info": {
   "codemirror_mode": {
    "name": "ipython",
    "version": 3
   },
   "file_extension": ".py",
   "mimetype": "text/x-python",
   "name": "python",
   "nbconvert_exporter": "python",
   "pygments_lexer": "ipython3",
   "version": "3.7.3"
  }
 },
 "nbformat": 4,
 "nbformat_minor": 2
}
