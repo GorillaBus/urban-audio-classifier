{
 "cells": [
  {
   "cell_type": "markdown",
   "metadata": {
    "nbpresent": {
     "id": "66105088-717f-47be-b719-d070a95e56d3"
    }
   },
   "source": [
    "##  Classifying audio data with convolutional neural networks\n",
    "\n",
    "<br/>\n",
    "by Eduardo Garcia Rajo<br/>\n",
    "<br/>\n",
    "\n",
    "This notebook is part of the project \"Urban sounds classification with Covnolutional Neural Networks\" on [my Github](https://github.com/GorillaBus/urban-audio-classifier).<br/>\n",
    "<br/>\n",
    "Licensed under the GNU LESSER GENERAL PUBLIC LICENSE Version 3, 29 June 2007<br/>\n",
    "<br/>"
   ]
  },
  {
   "cell_type": "markdown",
   "metadata": {
    "nbpresent": {
     "id": "bdb8f444-143c-49a8-948d-4b56e2cb457d"
    }
   },
   "source": [
    "# Training CNN model with augmented data\n",
    "\n",
    "We are now able to train our basic -but yet well performing- CNN architecture with the new augmented data. While the initial dataset had 8,732 samples, the augmented dataset has 69,856, that is 8x more information than previous experiments.<br/>\n",
    "We'll use Log-Mel Spectrograms as features because they showed to perform better than MFCC in our experiments.<br/>\n",
    "<br/>\n",
    "As an important note, we are going to train from augmented data but we are only going to test with samples from the original dataset: we want to know how the augmented data helps to improve predictions of the original data.<br/>\n",
    "<br/>"
   ]
  },
  {
   "cell_type": "markdown",
   "metadata": {
    "nbpresent": {
     "id": "bb86170e-2226-491a-8aec-e01925008746"
    }
   },
   "source": [
    "#### * Load required libraries"
   ]
  },
  {
   "cell_type": "code",
   "execution_count": 1,
   "metadata": {
    "nbpresent": {
     "id": "8afd8752-1ca6-4fe1-b14d-b16615d0199b"
    }
   },
   "outputs": [
    {
     "name": "stderr",
     "output_type": "stream",
     "text": [
      "Using TensorFlow backend.\n"
     ]
    }
   ],
   "source": [
    "import sys\n",
    "import os\n",
    "import IPython\n",
    "import math\n",
    "import numpy as np\n",
    "import pandas as pd\n",
    "import pickle\n",
    "import matplotlib.pyplot as plt\n",
    "%matplotlib inline\n",
    "\n",
    "import random\n",
    "from datetime import datetime\n",
    "from include import helpers\n",
    "\n",
    "from keras import backend as keras_backend\n",
    "from keras.models import Sequential, load_model\n",
    "from keras.layers import Dense, Dropout, Flatten, LeakyReLU, SpatialDropout2D, Activation, Conv2D, MaxPooling2D, BatchNormalization, GlobalAveragePooling2D\n",
    "from keras.optimizers import Adam\n",
    "from keras.utils import np_utils, to_categorical, plot_model\n",
    "from keras.callbacks import ModelCheckpoint \n",
    "from keras.regularizers import l2\n",
    "\n",
    "from sklearn.preprocessing import LabelEncoder\n",
    "from sklearn.model_selection import train_test_split\n",
    "from sklearn.metrics import classification_report, precision_recall_fscore_support, confusion_matrix"
   ]
  },
  {
   "cell_type": "code",
   "execution_count": 2,
   "metadata": {},
   "outputs": [],
   "source": [
    "# Define general variables\n",
    "\n",
    "# Set your path to the dataset\n",
    "us8k_path = os.path.abspath('./UrbanSound8K')\n",
    "orig_metadata_path = os.path.join(us8k_path, 'metadata/UrbanSound8K.csv')\n",
    "aug_metadata_path = os.path.abspath('data/augmented-data.csv')\n",
    "models_path = os.path.abspath('./models')\n",
    "data_path = os.path.abspath('./data')\n",
    "audio_path = os.path.join(us8k_path, 'audio')\n",
    "\n",
    "# Ensure \"channel last\" data format on Keras\n",
    "keras_backend.set_image_data_format('channels_last')\n",
    "\n",
    "# Define a labels array for future use\n",
    "labels = [\n",
    "        'Air Conditioner',\n",
    "        'Car Horn',\n",
    "        'Children Playing',\n",
    "        'Dog bark',\n",
    "        'Drilling',\n",
    "        'Engine Idling',\n",
    "        'Gun Shot',\n",
    "        'Jackhammer',\n",
    "        'Siren',\n",
    "        'Street Music'\n",
    "    ]"
   ]
  },
  {
   "cell_type": "code",
   "execution_count": 5,
   "metadata": {},
   "outputs": [],
   "source": [
    "# Required for the RTX GPU -- uncomment if using GTX or CPU\n",
    "import keras.backend as K\n",
    "import tensorflow as tf\n",
    "config = tf.ConfigProto()\n",
    "config.gpu_options.allow_growth = True\n",
    "K.set_session(tf.Session(config=config))"
   ]
  },
  {
   "cell_type": "markdown",
   "metadata": {
    "nbpresent": {
     "id": "a7b58aa0-2b3c-4854-a099-31d117ba74e1"
    }
   },
   "source": [
    "#### * Load data"
   ]
  },
  {
   "cell_type": "code",
   "execution_count": 3,
   "metadata": {
    "nbpresent": {
     "id": "87d3ebd1-0d75-4ea4-8f12-9f891a72d3e2"
    }
   },
   "outputs": [],
   "source": [
    "# Pre-processed MEL SPEC coefficients\n",
    "X = np.load(\"data/X-mel_spec-augmented.npy\")\n",
    "y = np.load(\"data/y-mel_spec-augmented.npy\")\n",
    "\n",
    "# Metadata\n",
    "metadata = pd.read_csv(orig_metadata_path)\n",
    "aug_metadata = pd.read_csv(aug_metadata_path)"
   ]
  },
  {
   "cell_type": "markdown",
   "metadata": {
    "nbpresent": {
     "id": "f8043a00-6bfa-41ca-807f-a49d7430b65a"
    }
   },
   "source": [
    "### 1. Data preparation: features + metadata"
   ]
  },
  {
   "cell_type": "markdown",
   "metadata": {},
   "source": [
    "#### 1.1 Train / Test split\n",
    "\n",
    "We are doing split data with the mentioned criteria in an extremely simple fashion: splitting 20% of the augmented dataset into test and then removing all reference to augmented samples from it. We'll end up with an amount of test data that will always be around 1700+ samples.<br/>\n",
    "<br/>"
   ]
  },
  {
   "cell_type": "code",
   "execution_count": 13,
   "metadata": {},
   "outputs": [
    {
     "name": "stdout",
     "output_type": "stream",
     "text": [
      "Test split: 1770 \t\t Train split: 55885\n",
      "X test shape: (12201, 40, 174) \t X train shape: (55885, 40, 174)\n",
      "y test shape: (12201,) \t\t y train shape: (55885,)\n"
     ]
    }
   ],
   "source": [
    "indexes = []\n",
    "total = len(aug_metadata)\n",
    "indexes = list(range(0, total))\n",
    "\n",
    "# Randomize indexes\n",
    "random.shuffle(indexes)\n",
    "\n",
    "# Divide the indexes into Train and Test\n",
    "test_split_pct = 20\n",
    "split_offset = math.floor(test_split_pct * total / 100)\n",
    "\n",
    "# Split the metadata\n",
    "test_split_idx = indexes[0:split_offset]\n",
    "train_split_idx = indexes[split_offset:total]\n",
    "\n",
    "\n",
    "# Split metadata\n",
    "test_meta = aug_metadata.iloc[test_split_idx]\n",
    "train_meta = aug_metadata.iloc[train_split_idx]\n",
    "\n",
    "# Remove augmented data from test metadata split\n",
    "test_meta = test_meta[test_meta['augment'] != 'none']\n",
    "aug_on_test_idx = test_meta.index.tolist()\n",
    "\n",
    "# Split the features with the same indexes\n",
    "X_test = np.take(X, aug_on_test_idx, axis=0)\n",
    "y_test = np.take(y, aug_on_test_idx, axis=0)\n",
    "X_train = np.take(X, train_split_idx, axis=0)\n",
    "y_train = np.take(y, train_split_idx, axis=0)\n",
    "\n",
    "\n",
    "# Print status\n",
    "print(\"Test split: {} \\t\\t Train split: {}\".format(len(test_meta)-len(aug_on_test_idx), len(train_meta)))\n",
    "print(\"X test shape: {} \\t X train shape: {}\".format(X_test.shape, X_train.shape))\n",
    "print(\"y test shape: {} \\t\\t y train shape: {}\".format(y_test.shape, y_train.shape))"
   ]
  },
  {
   "cell_type": "markdown",
   "metadata": {},
   "source": [
    "#### 1.2 One hot encode labels"
   ]
  },
  {
   "cell_type": "code",
   "execution_count": 14,
   "metadata": {
    "nbpresent": {
     "id": "65b227e7-2fe5-4582-bd79-c9e9b1b85d4e"
    }
   },
   "outputs": [],
   "source": [
    "le = LabelEncoder()\n",
    "y_test_encoded = to_categorical(le.fit_transform(y_test))\n",
    "y_train_encoded = to_categorical(le.fit_transform(y_train))"
   ]
  },
  {
   "cell_type": "markdown",
   "metadata": {
    "nbpresent": {
     "id": "720605ff-4689-47dc-b142-023ea206a50c"
    }
   },
   "source": [
    "#### 1.3 Reshape data"
   ]
  },
  {
   "cell_type": "code",
   "execution_count": 15,
   "metadata": {
    "nbpresent": {
     "id": "d742676a-5a23-4fc8-856a-ad5505238d45"
    }
   },
   "outputs": [],
   "source": [
    "# How data should be organized\n",
    "num_rows = 40\n",
    "num_columns = 174\n",
    "num_channels = 1\n",
    "\n",
    "# Reshape to fit the network input (channel last!)\n",
    "X_train = X_train.reshape(X_train.shape[0], num_rows, num_columns, num_channels)\n",
    "X_test = X_test.reshape(X_test.shape[0], num_rows, num_columns, num_channels)\n",
    "\n",
    "# Total number of labels to predict (equal to the network output nodes)\n",
    "num_labels = y_train_encoded.shape[1]"
   ]
  },
  {
   "cell_type": "markdown",
   "metadata": {
    "nbpresent": {
     "id": "23ae43f0-1d59-44ab-818d-54faeecf4f1c"
    }
   },
   "source": [
    "### 2. Basic CNN model\n",
    "\n",
    "We are using the exact same model than the previous notebooks\n",
    "\n",
    "#### 2.1 Model definition"
   ]
  },
  {
   "cell_type": "code",
   "execution_count": 32,
   "metadata": {
    "nbpresent": {
     "id": "845659a2-b4b4-4380-8d8f-51144a91ccab"
    },
    "scrolled": false
   },
   "outputs": [],
   "source": [
    "def create_model(spatial_dropout_rate_1=0, spatial_dropout_rate_2=0, l2_rate=0):\n",
    "\n",
    "    # Create a secquential object\n",
    "    model = Sequential()\n",
    "\n",
    "\n",
    "    # Conv 1\n",
    "    model.add(Conv2D(filters=32, \n",
    "                     kernel_size=(3, 3), \n",
    "                     kernel_regularizer=l2(l2_rate), \n",
    "                     input_shape=(num_rows, num_columns, num_channels)))\n",
    "    model.add(LeakyReLU(alpha=0.1))\n",
    "    model.add(BatchNormalization())\n",
    "\n",
    "    model.add(SpatialDropout2D(spatial_dropout_rate_1))\n",
    "    model.add(Conv2D(filters=32, \n",
    "                     kernel_size=(3, 3), \n",
    "                     kernel_regularizer=l2(l2_rate)))\n",
    "    model.add(LeakyReLU(alpha=0.1))\n",
    "    model.add(BatchNormalization())\n",
    "\n",
    "\n",
    "    # Max Pooling #1\n",
    "    model.add(MaxPooling2D(pool_size=(2, 2)))\n",
    "\n",
    "    model.add(SpatialDropout2D(spatial_dropout_rate_1))\n",
    "    model.add(Conv2D(filters=64, \n",
    "                     kernel_size=(3, 3), \n",
    "                     kernel_regularizer=l2(l2_rate)))\n",
    "    model.add(LeakyReLU(alpha=0.1))\n",
    "    model.add(BatchNormalization())\n",
    "\n",
    "    model.add(SpatialDropout2D(spatial_dropout_rate_2))\n",
    "    model.add(Conv2D(filters=64, \n",
    "                     kernel_size=(3,3), \n",
    "                     kernel_regularizer=l2(l2_rate)))\n",
    "    model.add(LeakyReLU(alpha=0.1))\n",
    "    model.add(BatchNormalization())\n",
    "\n",
    "\n",
    "    # Reduces each h×w feature map to a single number by taking the average of all h,w values.\n",
    "    model.add(GlobalAveragePooling2D())\n",
    "\n",
    "    # Softmax output\n",
    "    model.add(Dense(num_labels, activation='softmax'))\n",
    "    \n",
    "    return model\n",
    "\n",
    "# Regularization rates\n",
    "spatial_dropout_rate_1 = 0.07\n",
    "spatial_dropout_rate_2 = 0.14\n",
    "l2_rate = 0.001\n",
    "\n",
    "model = create_model(spatial_dropout_rate_1, spatial_dropout_rate_2, l2_rate)"
   ]
  },
  {
   "cell_type": "markdown",
   "metadata": {},
   "source": [
    "#### 2.2 Setup model optimizer and loss function"
   ]
  },
  {
   "cell_type": "code",
   "execution_count": 33,
   "metadata": {},
   "outputs": [
    {
     "name": "stdout",
     "output_type": "stream",
     "text": [
      "Model: \"sequential_2\"\n",
      "_________________________________________________________________\n",
      "Layer (type)                 Output Shape              Param #   \n",
      "=================================================================\n",
      "conv2d_5 (Conv2D)            (None, 38, 172, 32)       320       \n",
      "_________________________________________________________________\n",
      "leaky_re_lu_5 (LeakyReLU)    (None, 38, 172, 32)       0         \n",
      "_________________________________________________________________\n",
      "batch_normalization_5 (Batch (None, 38, 172, 32)       128       \n",
      "_________________________________________________________________\n",
      "spatial_dropout2d_4 (Spatial (None, 38, 172, 32)       0         \n",
      "_________________________________________________________________\n",
      "conv2d_6 (Conv2D)            (None, 36, 170, 32)       9248      \n",
      "_________________________________________________________________\n",
      "leaky_re_lu_6 (LeakyReLU)    (None, 36, 170, 32)       0         \n",
      "_________________________________________________________________\n",
      "batch_normalization_6 (Batch (None, 36, 170, 32)       128       \n",
      "_________________________________________________________________\n",
      "max_pooling2d_2 (MaxPooling2 (None, 18, 85, 32)        0         \n",
      "_________________________________________________________________\n",
      "spatial_dropout2d_5 (Spatial (None, 18, 85, 32)        0         \n",
      "_________________________________________________________________\n",
      "conv2d_7 (Conv2D)            (None, 16, 83, 64)        18496     \n",
      "_________________________________________________________________\n",
      "leaky_re_lu_7 (LeakyReLU)    (None, 16, 83, 64)        0         \n",
      "_________________________________________________________________\n",
      "batch_normalization_7 (Batch (None, 16, 83, 64)        256       \n",
      "_________________________________________________________________\n",
      "spatial_dropout2d_6 (Spatial (None, 16, 83, 64)        0         \n",
      "_________________________________________________________________\n",
      "conv2d_8 (Conv2D)            (None, 14, 81, 64)        36928     \n",
      "_________________________________________________________________\n",
      "leaky_re_lu_8 (LeakyReLU)    (None, 14, 81, 64)        0         \n",
      "_________________________________________________________________\n",
      "batch_normalization_8 (Batch (None, 14, 81, 64)        256       \n",
      "_________________________________________________________________\n",
      "global_average_pooling2d_2 ( (None, 64)                0         \n",
      "_________________________________________________________________\n",
      "dense_2 (Dense)              (None, 10)                650       \n",
      "=================================================================\n",
      "Total params: 66,410\n",
      "Trainable params: 66,026\n",
      "Non-trainable params: 384\n",
      "_________________________________________________________________\n"
     ]
    }
   ],
   "source": [
    "adam = Adam(lr=1e-4, beta_1=0.99, beta_2=0.999)\n",
    "model.compile(\n",
    "    loss='categorical_crossentropy', \n",
    "    metrics=['accuracy'], \n",
    "    optimizer=adam)\n",
    "\n",
    "# Display model architecture summary \n",
    "model.summary()"
   ]
  },
  {
   "cell_type": "markdown",
   "metadata": {},
   "source": [
    "#### 2.3 Compile model"
   ]
  },
  {
   "cell_type": "code",
   "execution_count": 34,
   "metadata": {
    "scrolled": true
   },
   "outputs": [
    {
     "name": "stdout",
     "output_type": "stream",
     "text": [
      "Train on 51227 samples, validate on 4658 samples\n",
      "Epoch 1/48\n",
      "51227/51227 [==============================] - 23s 458us/step - loss: 1.7937 - accuracy: 0.4203 - val_loss: 2.3999 - val_accuracy: 0.2645\n",
      "\n",
      "Epoch 00001: val_loss improved from inf to 2.39989, saving model to /home/edu/Projects/urban-audio-classifier/models/aug-train-nb3.hdf5\n",
      "Epoch 2/48\n",
      "51227/51227 [==============================] - 23s 445us/step - loss: 1.4683 - accuracy: 0.5375 - val_loss: 1.3264 - val_accuracy: 0.6069\n",
      "\n",
      "Epoch 00002: val_loss improved from 2.39989 to 1.32639, saving model to /home/edu/Projects/urban-audio-classifier/models/aug-train-nb3.hdf5\n",
      "Epoch 3/48\n",
      "51227/51227 [==============================] - 23s 446us/step - loss: 1.3209 - accuracy: 0.5906 - val_loss: 1.1690 - val_accuracy: 0.6597\n",
      "\n",
      "Epoch 00003: val_loss improved from 1.32639 to 1.16902, saving model to /home/edu/Projects/urban-audio-classifier/models/aug-train-nb3.hdf5\n",
      "Epoch 4/48\n",
      "51227/51227 [==============================] - 23s 446us/step - loss: 1.2217 - accuracy: 0.6303 - val_loss: 1.0841 - val_accuracy: 0.7097\n",
      "\n",
      "Epoch 00004: val_loss improved from 1.16902 to 1.08408, saving model to /home/edu/Projects/urban-audio-classifier/models/aug-train-nb3.hdf5\n",
      "Epoch 5/48\n",
      "51227/51227 [==============================] - 23s 447us/step - loss: 1.1400 - accuracy: 0.6627 - val_loss: 1.0136 - val_accuracy: 0.7359\n",
      "\n",
      "Epoch 00005: val_loss improved from 1.08408 to 1.01362, saving model to /home/edu/Projects/urban-audio-classifier/models/aug-train-nb3.hdf5\n",
      "Epoch 6/48\n",
      "51227/51227 [==============================] - 23s 447us/step - loss: 1.0739 - accuracy: 0.6894 - val_loss: 0.9484 - val_accuracy: 0.7563\n",
      "\n",
      "Epoch 00006: val_loss improved from 1.01362 to 0.94843, saving model to /home/edu/Projects/urban-audio-classifier/models/aug-train-nb3.hdf5\n",
      "Epoch 7/48\n",
      "51227/51227 [==============================] - 23s 446us/step - loss: 1.0206 - accuracy: 0.7087 - val_loss: 0.8849 - val_accuracy: 0.7688\n",
      "\n",
      "Epoch 00007: val_loss improved from 0.94843 to 0.88489, saving model to /home/edu/Projects/urban-audio-classifier/models/aug-train-nb3.hdf5\n",
      "Epoch 8/48\n",
      "51227/51227 [==============================] - 23s 447us/step - loss: 0.9655 - accuracy: 0.7286 - val_loss: 0.8349 - val_accuracy: 0.7903\n",
      "\n",
      "Epoch 00008: val_loss improved from 0.88489 to 0.83493, saving model to /home/edu/Projects/urban-audio-classifier/models/aug-train-nb3.hdf5\n",
      "Epoch 9/48\n",
      "51227/51227 [==============================] - 23s 447us/step - loss: 0.9224 - accuracy: 0.7426 - val_loss: 0.7912 - val_accuracy: 0.8031\n",
      "\n",
      "Epoch 00009: val_loss improved from 0.83493 to 0.79115, saving model to /home/edu/Projects/urban-audio-classifier/models/aug-train-nb3.hdf5\n",
      "Epoch 10/48\n",
      "51227/51227 [==============================] - 23s 447us/step - loss: 0.8846 - accuracy: 0.7578 - val_loss: 0.7574 - val_accuracy: 0.8113\n",
      "\n",
      "Epoch 00010: val_loss improved from 0.79115 to 0.75737, saving model to /home/edu/Projects/urban-audio-classifier/models/aug-train-nb3.hdf5\n",
      "Epoch 11/48\n",
      "51227/51227 [==============================] - 23s 446us/step - loss: 0.8458 - accuracy: 0.7682 - val_loss: 0.7223 - val_accuracy: 0.8175\n",
      "\n",
      "Epoch 00011: val_loss improved from 0.75737 to 0.72228, saving model to /home/edu/Projects/urban-audio-classifier/models/aug-train-nb3.hdf5\n",
      "Epoch 12/48\n",
      "51227/51227 [==============================] - 23s 447us/step - loss: 0.8127 - accuracy: 0.7801 - val_loss: 0.6889 - val_accuracy: 0.8356\n",
      "\n",
      "Epoch 00012: val_loss improved from 0.72228 to 0.68887, saving model to /home/edu/Projects/urban-audio-classifier/models/aug-train-nb3.hdf5\n",
      "Epoch 13/48\n",
      "51227/51227 [==============================] - 23s 447us/step - loss: 0.7847 - accuracy: 0.7882 - val_loss: 0.6597 - val_accuracy: 0.8431\n",
      "\n",
      "Epoch 00013: val_loss improved from 0.68887 to 0.65974, saving model to /home/edu/Projects/urban-audio-classifier/models/aug-train-nb3.hdf5\n",
      "Epoch 14/48\n",
      "51227/51227 [==============================] - 23s 447us/step - loss: 0.7534 - accuracy: 0.7987 - val_loss: 0.6343 - val_accuracy: 0.8521\n",
      "\n",
      "Epoch 00014: val_loss improved from 0.65974 to 0.63432, saving model to /home/edu/Projects/urban-audio-classifier/models/aug-train-nb3.hdf5\n",
      "Epoch 15/48\n",
      "51227/51227 [==============================] - 23s 446us/step - loss: 0.7323 - accuracy: 0.8044 - val_loss: 0.6136 - val_accuracy: 0.8497\n",
      "\n",
      "Epoch 00015: val_loss improved from 0.63432 to 0.61361, saving model to /home/edu/Projects/urban-audio-classifier/models/aug-train-nb3.hdf5\n",
      "Epoch 16/48\n",
      "51227/51227 [==============================] - 23s 447us/step - loss: 0.7075 - accuracy: 0.8123 - val_loss: 0.5870 - val_accuracy: 0.8665\n",
      "\n",
      "Epoch 00016: val_loss improved from 0.61361 to 0.58703, saving model to /home/edu/Projects/urban-audio-classifier/models/aug-train-nb3.hdf5\n",
      "Epoch 17/48\n",
      "51227/51227 [==============================] - 23s 447us/step - loss: 0.6824 - accuracy: 0.8201 - val_loss: 0.5706 - val_accuracy: 0.8669\n",
      "\n",
      "Epoch 00017: val_loss improved from 0.58703 to 0.57057, saving model to /home/edu/Projects/urban-audio-classifier/models/aug-train-nb3.hdf5\n",
      "Epoch 18/48\n",
      "51227/51227 [==============================] - 23s 446us/step - loss: 0.6638 - accuracy: 0.8245 - val_loss: 0.5490 - val_accuracy: 0.8708\n",
      "\n",
      "Epoch 00018: val_loss improved from 0.57057 to 0.54902, saving model to /home/edu/Projects/urban-audio-classifier/models/aug-train-nb3.hdf5\n",
      "Epoch 19/48\n",
      "51227/51227 [==============================] - 23s 446us/step - loss: 0.6439 - accuracy: 0.8297 - val_loss: 0.5235 - val_accuracy: 0.8802\n",
      "\n",
      "Epoch 00019: val_loss improved from 0.54902 to 0.52348, saving model to /home/edu/Projects/urban-audio-classifier/models/aug-train-nb3.hdf5\n",
      "Epoch 20/48\n",
      "51227/51227 [==============================] - 23s 447us/step - loss: 0.6212 - accuracy: 0.8401 - val_loss: 0.5036 - val_accuracy: 0.8841\n",
      "\n",
      "Epoch 00020: val_loss improved from 0.52348 to 0.50355, saving model to /home/edu/Projects/urban-audio-classifier/models/aug-train-nb3.hdf5\n",
      "Epoch 21/48\n",
      "51227/51227 [==============================] - 23s 447us/step - loss: 0.6070 - accuracy: 0.8417 - val_loss: 0.4895 - val_accuracy: 0.8897\n",
      "\n",
      "Epoch 00021: val_loss improved from 0.50355 to 0.48947, saving model to /home/edu/Projects/urban-audio-classifier/models/aug-train-nb3.hdf5\n",
      "Epoch 22/48\n",
      "51227/51227 [==============================] - 23s 447us/step - loss: 0.5904 - accuracy: 0.8458 - val_loss: 0.4841 - val_accuracy: 0.8843\n",
      "\n",
      "Epoch 00022: val_loss improved from 0.48947 to 0.48409, saving model to /home/edu/Projects/urban-audio-classifier/models/aug-train-nb3.hdf5\n",
      "Epoch 23/48\n",
      "51227/51227 [==============================] - 23s 446us/step - loss: 0.5736 - accuracy: 0.8513 - val_loss: 0.4661 - val_accuracy: 0.8914\n",
      "\n",
      "Epoch 00023: val_loss improved from 0.48409 to 0.46614, saving model to /home/edu/Projects/urban-audio-classifier/models/aug-train-nb3.hdf5\n",
      "Epoch 24/48\n",
      "51227/51227 [==============================] - 23s 447us/step - loss: 0.5605 - accuracy: 0.8539 - val_loss: 0.4486 - val_accuracy: 0.8939\n",
      "\n",
      "Epoch 00024: val_loss improved from 0.46614 to 0.44857, saving model to /home/edu/Projects/urban-audio-classifier/models/aug-train-nb3.hdf5\n",
      "Epoch 25/48\n",
      "51227/51227 [==============================] - 23s 447us/step - loss: 0.5443 - accuracy: 0.8589 - val_loss: 0.4364 - val_accuracy: 0.9000\n",
      "\n",
      "Epoch 00025: val_loss improved from 0.44857 to 0.43642, saving model to /home/edu/Projects/urban-audio-classifier/models/aug-train-nb3.hdf5\n",
      "Epoch 26/48\n",
      "51227/51227 [==============================] - 23s 447us/step - loss: 0.5354 - accuracy: 0.8608 - val_loss: 0.4306 - val_accuracy: 0.9008\n",
      "\n",
      "Epoch 00026: val_loss improved from 0.43642 to 0.43064, saving model to /home/edu/Projects/urban-audio-classifier/models/aug-train-nb3.hdf5\n",
      "Epoch 27/48\n",
      "51227/51227 [==============================] - 23s 446us/step - loss: 0.5190 - accuracy: 0.8658 - val_loss: 0.4172 - val_accuracy: 0.9036\n",
      "\n",
      "Epoch 00027: val_loss improved from 0.43064 to 0.41718, saving model to /home/edu/Projects/urban-audio-classifier/models/aug-train-nb3.hdf5\n",
      "Epoch 28/48\n",
      "51227/51227 [==============================] - 23s 447us/step - loss: 0.5066 - accuracy: 0.8698 - val_loss: 0.3942 - val_accuracy: 0.9135\n",
      "\n",
      "Epoch 00028: val_loss improved from 0.41718 to 0.39423, saving model to /home/edu/Projects/urban-audio-classifier/models/aug-train-nb3.hdf5\n",
      "Epoch 29/48\n"
     ]
    },
    {
     "name": "stdout",
     "output_type": "stream",
     "text": [
      "51227/51227 [==============================] - 23s 447us/step - loss: 0.4953 - accuracy: 0.8732 - val_loss: 0.3969 - val_accuracy: 0.9085\n",
      "\n",
      "Epoch 00029: val_loss did not improve from 0.39423\n",
      "Epoch 30/48\n",
      "51227/51227 [==============================] - 23s 447us/step - loss: 0.4847 - accuracy: 0.8747 - val_loss: 0.3801 - val_accuracy: 0.9105\n",
      "\n",
      "Epoch 00030: val_loss improved from 0.39423 to 0.38006, saving model to /home/edu/Projects/urban-audio-classifier/models/aug-train-nb3.hdf5\n",
      "Epoch 31/48\n",
      "51227/51227 [==============================] - 23s 446us/step - loss: 0.4740 - accuracy: 0.8792 - val_loss: 0.3732 - val_accuracy: 0.9137\n",
      "\n",
      "Epoch 00031: val_loss improved from 0.38006 to 0.37319, saving model to /home/edu/Projects/urban-audio-classifier/models/aug-train-nb3.hdf5\n",
      "Epoch 32/48\n",
      "51227/51227 [==============================] - 23s 446us/step - loss: 0.4670 - accuracy: 0.8791 - val_loss: 0.3643 - val_accuracy: 0.9180\n",
      "\n",
      "Epoch 00032: val_loss improved from 0.37319 to 0.36432, saving model to /home/edu/Projects/urban-audio-classifier/models/aug-train-nb3.hdf5\n",
      "Epoch 33/48\n",
      "51227/51227 [==============================] - 23s 447us/step - loss: 0.4524 - accuracy: 0.8833 - val_loss: 0.3568 - val_accuracy: 0.9180\n",
      "\n",
      "Epoch 00033: val_loss improved from 0.36432 to 0.35684, saving model to /home/edu/Projects/urban-audio-classifier/models/aug-train-nb3.hdf5\n",
      "Epoch 34/48\n",
      "51227/51227 [==============================] - 23s 447us/step - loss: 0.4439 - accuracy: 0.8853 - val_loss: 0.3495 - val_accuracy: 0.9163\n",
      "\n",
      "Epoch 00034: val_loss improved from 0.35684 to 0.34946, saving model to /home/edu/Projects/urban-audio-classifier/models/aug-train-nb3.hdf5\n",
      "Epoch 35/48\n",
      "51227/51227 [==============================] - 23s 447us/step - loss: 0.4363 - accuracy: 0.8885 - val_loss: 0.3394 - val_accuracy: 0.9186\n",
      "\n",
      "Epoch 00035: val_loss improved from 0.34946 to 0.33941, saving model to /home/edu/Projects/urban-audio-classifier/models/aug-train-nb3.hdf5\n",
      "Epoch 36/48\n",
      "51227/51227 [==============================] - 23s 447us/step - loss: 0.4269 - accuracy: 0.8908 - val_loss: 0.3318 - val_accuracy: 0.9257\n",
      "\n",
      "Epoch 00036: val_loss improved from 0.33941 to 0.33180, saving model to /home/edu/Projects/urban-audio-classifier/models/aug-train-nb3.hdf5\n",
      "Epoch 37/48\n",
      "51227/51227 [==============================] - 23s 446us/step - loss: 0.4184 - accuracy: 0.8930 - val_loss: 0.3237 - val_accuracy: 0.9266\n",
      "\n",
      "Epoch 00037: val_loss improved from 0.33180 to 0.32375, saving model to /home/edu/Projects/urban-audio-classifier/models/aug-train-nb3.hdf5\n",
      "Epoch 38/48\n",
      "51227/51227 [==============================] - 23s 446us/step - loss: 0.4127 - accuracy: 0.8940 - val_loss: 0.3126 - val_accuracy: 0.9304\n",
      "\n",
      "Epoch 00038: val_loss improved from 0.32375 to 0.31263, saving model to /home/edu/Projects/urban-audio-classifier/models/aug-train-nb3.hdf5\n",
      "Epoch 39/48\n",
      "51227/51227 [==============================] - 23s 445us/step - loss: 0.4006 - accuracy: 0.8975 - val_loss: 0.3133 - val_accuracy: 0.9281\n",
      "\n",
      "Epoch 00039: val_loss did not improve from 0.31263\n",
      "Epoch 40/48\n",
      "51227/51227 [==============================] - 23s 446us/step - loss: 0.3931 - accuracy: 0.8994 - val_loss: 0.3083 - val_accuracy: 0.9287\n",
      "\n",
      "Epoch 00040: val_loss improved from 0.31263 to 0.30833, saving model to /home/edu/Projects/urban-audio-classifier/models/aug-train-nb3.hdf5\n",
      "Epoch 41/48\n",
      "51227/51227 [==============================] - 23s 446us/step - loss: 0.3879 - accuracy: 0.9012 - val_loss: 0.3015 - val_accuracy: 0.9289\n",
      "\n",
      "Epoch 00041: val_loss improved from 0.30833 to 0.30150, saving model to /home/edu/Projects/urban-audio-classifier/models/aug-train-nb3.hdf5\n",
      "Epoch 42/48\n",
      "51227/51227 [==============================] - 23s 446us/step - loss: 0.3802 - accuracy: 0.9033 - val_loss: 0.2890 - val_accuracy: 0.9362\n",
      "\n",
      "Epoch 00042: val_loss improved from 0.30150 to 0.28900, saving model to /home/edu/Projects/urban-audio-classifier/models/aug-train-nb3.hdf5\n",
      "Epoch 43/48\n",
      "51227/51227 [==============================] - 23s 445us/step - loss: 0.3763 - accuracy: 0.9031 - val_loss: 0.2869 - val_accuracy: 0.9334\n",
      "\n",
      "Epoch 00043: val_loss improved from 0.28900 to 0.28690, saving model to /home/edu/Projects/urban-audio-classifier/models/aug-train-nb3.hdf5\n",
      "Epoch 44/48\n",
      "51227/51227 [==============================] - 23s 446us/step - loss: 0.3668 - accuracy: 0.9062 - val_loss: 0.2746 - val_accuracy: 0.9382\n",
      "\n",
      "Epoch 00044: val_loss improved from 0.28690 to 0.27456, saving model to /home/edu/Projects/urban-audio-classifier/models/aug-train-nb3.hdf5\n",
      "Epoch 45/48\n",
      "51227/51227 [==============================] - 23s 446us/step - loss: 0.3581 - accuracy: 0.9089 - val_loss: 0.2795 - val_accuracy: 0.9375\n",
      "\n",
      "Epoch 00045: val_loss did not improve from 0.27456\n",
      "Epoch 46/48\n",
      "51227/51227 [==============================] - 23s 447us/step - loss: 0.3546 - accuracy: 0.9106 - val_loss: 0.2684 - val_accuracy: 0.9395\n",
      "\n",
      "Epoch 00046: val_loss improved from 0.27456 to 0.26843, saving model to /home/edu/Projects/urban-audio-classifier/models/aug-train-nb3.hdf5\n",
      "Epoch 47/48\n",
      "51227/51227 [==============================] - 23s 446us/step - loss: 0.3491 - accuracy: 0.9117 - val_loss: 0.2575 - val_accuracy: 0.9438\n",
      "\n",
      "Epoch 00047: val_loss improved from 0.26843 to 0.25750, saving model to /home/edu/Projects/urban-audio-classifier/models/aug-train-nb3.hdf5\n",
      "Epoch 48/48\n",
      "51227/51227 [==============================] - 23s 447us/step - loss: 0.3438 - accuracy: 0.9128 - val_loss: 0.2571 - val_accuracy: 0.9440\n",
      "\n",
      "Epoch 00048: val_loss improved from 0.25750 to 0.25706, saving model to /home/edu/Projects/urban-audio-classifier/models/aug-train-nb3.hdf5\n",
      "Training completed in time:  0:18:25.702795\n"
     ]
    }
   ],
   "source": [
    "num_epochs = 53\n",
    "num_batch_size = 128\n",
    "model_file = 'aug-train-nb3.hdf5'\n",
    "model_path = os.path.join(models_path, model_file)\n",
    "\n",
    "\n",
    "# Save checkpoints\n",
    "checkpointer = ModelCheckpoint(filepath=model_path, \n",
    "                               verbose=1, \n",
    "                               save_best_only=True)\n",
    "start = datetime.now()\n",
    "history = model.fit(X_train, \n",
    "                    y_train_encoded, \n",
    "                    batch_size=num_batch_size, \n",
    "                    epochs=num_epochs, \n",
    "                    validation_split=1/12.,\n",
    "                    callbacks=[checkpointer], \n",
    "                    verbose=1)\n",
    "\n",
    "duration = datetime.now() - start\n",
    "print(\"Training completed in time: \", duration)"
   ]
  },
  {
   "cell_type": "markdown",
   "metadata": {},
   "source": [
    "#### 2.4 General model evaluation"
   ]
  },
  {
   "cell_type": "code",
   "execution_count": 53,
   "metadata": {},
   "outputs": [
    {
     "name": "stdout",
     "output_type": "stream",
     "text": [
      "                    LOSS      ACCURACY\n",
      "--------------------------------------\n",
      "Training:         0.2284       95.3172\n",
      "Test:             0.2373       95.0086\n",
      "Normal diff          3.75 \n"
     ]
    }
   ],
   "source": [
    "# Load best saved model\n",
    "model = load_model(model_path)\n",
    "\n",
    "helpers.model_evaluation_report(model, X_train, y_train_encoded, X_test, y_test_encoded)"
   ]
  },
  {
   "cell_type": "markdown",
   "metadata": {},
   "source": [
    "#### 2.5 Train vs Test history plot"
   ]
  },
  {
   "cell_type": "code",
   "execution_count": 36,
   "metadata": {
    "scrolled": false
   },
   "outputs": [
    {
     "data": {
      "image/png": "[encoded data removed]",
      "text/plain": [
       "<Figure size 1152x576 with 1 Axes>"
      ]
     },
     "metadata": {
      "needs_background": "light"
     },
     "output_type": "display_data"
    },
    {
     "data": {
      "image/png": "[encoded data removed]",
      "text/plain": [
       "<Figure size 1152x432 with 1 Axes>"
      ]
     },
     "metadata": {
      "needs_background": "light"
     },
     "output_type": "display_data"
    }
   ],
   "source": [
    "helpers.plot_train_history(history)"
   ]
  },
  {
   "cell_type": "markdown",
   "metadata": {},
   "source": [
    "Training dynamics have changed in comparison to the last two experiments where the validation error reached a maximum value during the first few epochs before starting to minimize and becoming comparable with train loss. In this case the validation loss minimized since the first epoch, as we have more data representing what we want to predict. Generalization gap is noticeable by two smooth loss lines and the error difference looks quite the same than last experiment with Log-Mel Spectrograms.<br/>\n",
    "<br/>"
   ]
  },
  {
   "cell_type": "markdown",
   "metadata": {},
   "source": [
    "### 3. Model evaluation"
   ]
  },
  {
   "cell_type": "markdown",
   "metadata": {},
   "source": [
    "#### * Register model output"
   ]
  },
  {
   "cell_type": "code",
   "execution_count": 54,
   "metadata": {},
   "outputs": [
    {
     "name": "stderr",
     "output_type": "stream",
     "text": [
      "/home/edu/anaconda3/envs/tf-gpu/lib/python3.6/site-packages/ipykernel_launcher.py:9: SettingWithCopyWarning: \n",
      "A value is trying to be set on a copy of a slice from a DataFrame.\n",
      "Try using .loc[row_indexer,col_indexer] = value instead\n",
      "\n",
      "See the caveats in the documentation: http://pandas.pydata.org/pandas-docs/stable/user_guide/indexing.html#returning-a-view-versus-a-copy\n",
      "  if __name__ == '__main__':\n"
     ]
    }
   ],
   "source": [
    "# Predict probabilities for test set\n",
    "y_probs = model.predict(X_test, verbose=0)\n",
    "\n",
    "# Get predicted labels\n",
    "yhat_probs = np.argmax(y_probs, axis=1)\n",
    "y_trues = np.argmax(y_test_encoded, axis=1)\n",
    "\n",
    "# Add \"pred\" column\n",
    "test_meta['pred'] = yhat_probs"
   ]
  },
  {
   "cell_type": "markdown",
   "metadata": {},
   "source": [
    "#### 3.1 Confusion matrix"
   ]
  },
  {
   "cell_type": "code",
   "execution_count": 55,
   "metadata": {},
   "outputs": [
    {
     "data": {
      "image/png": "[encoded data removed]",
      "text/plain": [
       "<Figure size 864x864 with 2 Axes>"
      ]
     },
     "metadata": {
      "needs_background": "light"
     },
     "output_type": "display_data"
    }
   ],
   "source": [
    "# Sets decimal precision (for printing output only)\n",
    "np.set_printoptions(precision=2)\n",
    "\n",
    "# Compute confusion matrix data\n",
    "cm = confusion_matrix(y_trues, yhat_probs)\n",
    "\n",
    "helpers.plot_confusion_matrix(cm,\n",
    "                          labels, \n",
    "                          normalized=False, \n",
    "                          title=\"Model Performance\", \n",
    "                          cmap=plt.cm.Blues,\n",
    "                          size=(12,12))"
   ]
  },
  {
   "cell_type": "markdown",
   "metadata": {},
   "source": [
    "We now have multiple times more data than before in our test set but still we can see how some particular patterns are still present, hopefully, with a slighter effect. Usual misclassification cases still happen between **Street Music** and **Children Playing**, **Drilling** and **Jack Hammer** or **Dog Bark** and **Children Playing**."
   ]
  },
  {
   "cell_type": "markdown",
   "metadata": {},
   "source": [
    "#### 3.2 Accuracy table"
   ]
  },
  {
   "cell_type": "code",
   "execution_count": 56,
   "metadata": {},
   "outputs": [
    {
     "data": {
      "text/html": [
       "<div>\n",
       "<style scoped>\n",
       "    .dataframe tbody tr th:only-of-type {\n",
       "        vertical-align: middle;\n",
       "    }\n",
       "\n",
       "    .dataframe tbody tr th {\n",
       "        vertical-align: top;\n",
       "    }\n",
       "\n",
       "    .dataframe thead th {\n",
       "        text-align: right;\n",
       "    }\n",
       "</style>\n",
       "<table border=\"1\" class=\"dataframe\">\n",
       "  <thead>\n",
       "    <tr style=\"text-align: right;\">\n",
       "      <th></th>\n",
       "      <th>CLASS</th>\n",
       "      <th>ACCURACY</th>\n",
       "    </tr>\n",
       "  </thead>\n",
       "  <tbody>\n",
       "    <tr>\n",
       "      <td>0</td>\n",
       "      <td>Air Conditioner</td>\n",
       "      <td>97.528249</td>\n",
       "    </tr>\n",
       "    <tr>\n",
       "      <td>7</td>\n",
       "      <td>Jackhammer</td>\n",
       "      <td>97.522368</td>\n",
       "    </tr>\n",
       "    <tr>\n",
       "      <td>6</td>\n",
       "      <td>Gun Shot</td>\n",
       "      <td>97.495183</td>\n",
       "    </tr>\n",
       "    <tr>\n",
       "      <td>1</td>\n",
       "      <td>Car Horn</td>\n",
       "      <td>97.246127</td>\n",
       "    </tr>\n",
       "    <tr>\n",
       "      <td>8</td>\n",
       "      <td>Siren</td>\n",
       "      <td>96.753247</td>\n",
       "    </tr>\n",
       "    <tr>\n",
       "      <td>5</td>\n",
       "      <td>Engine Idling</td>\n",
       "      <td>95.549174</td>\n",
       "    </tr>\n",
       "    <tr>\n",
       "      <td>4</td>\n",
       "      <td>Drilling</td>\n",
       "      <td>94.868035</td>\n",
       "    </tr>\n",
       "    <tr>\n",
       "      <td>3</td>\n",
       "      <td>Dog bark</td>\n",
       "      <td>93.152639</td>\n",
       "    </tr>\n",
       "    <tr>\n",
       "      <td>2</td>\n",
       "      <td>Children Playing</td>\n",
       "      <td>92.553932</td>\n",
       "    </tr>\n",
       "    <tr>\n",
       "      <td>9</td>\n",
       "      <td>Street Music</td>\n",
       "      <td>90.455840</td>\n",
       "    </tr>\n",
       "  </tbody>\n",
       "</table>\n",
       "</div>"
      ],
      "text/plain": [
       "              CLASS   ACCURACY\n",
       "0   Air Conditioner  97.528249\n",
       "7        Jackhammer  97.522368\n",
       "6          Gun Shot  97.495183\n",
       "1          Car Horn  97.246127\n",
       "8             Siren  96.753247\n",
       "5     Engine Idling  95.549174\n",
       "4          Drilling  94.868035\n",
       "3          Dog bark  93.152639\n",
       "2  Children Playing  92.553932\n",
       "9      Street Music  90.455840"
      ]
     },
     "execution_count": 56,
     "metadata": {},
     "output_type": "execute_result"
    }
   ],
   "source": [
    "# Find per-class accuracy from the confusion matrix data\n",
    "accuracies = helpers.acc_per_class(cm)\n",
    "\n",
    "pd.DataFrame({\n",
    "    'CLASS': labels,\n",
    "    'ACCURACY': accuracies\n",
    "}).sort_values(by=\"ACCURACY\", ascending=False)"
   ]
  },
  {
   "cell_type": "markdown",
   "metadata": {},
   "source": [
    "Happily, every class accuracy has raised! What's more interesting is that results are more balanced between classes now.<br/>"
   ]
  },
  {
   "cell_type": "code",
   "execution_count": 57,
   "metadata": {},
   "outputs": [
    {
     "name": "stdout",
     "output_type": "stream",
     "text": [
      "                  precision    recall  f1-score   support\n",
      "\n",
      " Air Conditioner       0.94      0.98      0.96      1416\n",
      "        Car Horn       0.90      0.97      0.94       581\n",
      "Children Playing       0.91      0.93      0.92      1437\n",
      "        Dog bark       0.93      0.93      0.93      1402\n",
      "        Drilling       0.97      0.95      0.96      1364\n",
      "   Engine Idling       0.98      0.96      0.97      1393\n",
      "        Gun Shot       0.95      0.97      0.96       519\n",
      "      Jackhammer       0.97      0.98      0.97      1453\n",
      "           Siren       0.99      0.97      0.98      1232\n",
      "    Street Music       0.95      0.90      0.93      1404\n",
      "\n",
      "        accuracy                           0.95     12201\n",
      "       macro avg       0.95      0.95      0.95     12201\n",
      "    weighted avg       0.95      0.95      0.95     12201\n",
      "\n"
     ]
    }
   ],
   "source": [
    "# Build classification report\n",
    "re = classification_report(y_trues, yhat_probs, labels=[0,1,2,3,4,5,6,7,8,9], target_names=labels)\n",
    "\n",
    "print(re)"
   ]
  },
  {
   "cell_type": "markdown",
   "metadata": {},
   "source": [
    "Similar to class accuracies, we see an increase in the average F1, Precision and Recall scores, and also, more balanced results. The common patterns we have been seeing for the last two experiments are still present but with a much slighter effect.<br/>\n",
    "<br/>"
   ]
  },
  {
   "cell_type": "markdown",
   "metadata": {},
   "source": [
    "## 4. Conclusion\n",
    "\n",
    "All along this experiments we have learned how a very simple convolutional neural network can learn to recognize audible events, even when working with quite unbalanced datasets as the UrbanSound8K is. I would still like to experiment with different feature combinations; not that this performance scores are useless, we sure can use this model as it is to learn simple events like orders (\"start\", \"right\", \"update\", \"stop\", ...) or numbers for example.<br/>\n",
    "<br/>\n",
    "The amount of data showed to be a very important factor, until data augmentation training results where much more bound to the distribution of train/test splits: where it was easy to end up with a test split that wouldn't represent the train split. This didn't happen with augmented data.<br/>\n",
    "<br/>\n"
   ]
  }
 ],
 "metadata": {
  "kernelspec": {
   "display_name": "Python 3",
   "language": "python",
   "name": "python3"
  },
  "language_info": {
   "codemirror_mode": {
    "name": "ipython",
    "version": 3
   },
   "file_extension": ".py",
   "mimetype": "text/x-python",
   "name": "python",
   "nbconvert_exporter": "python",
   "pygments_lexer": "ipython3",
   "version": "3.6.9"
  }
 },
 "nbformat": 4,
 "nbformat_minor": 2
}
